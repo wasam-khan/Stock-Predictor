{
  "cells": [
    {
      "cell_type": "code",
      "execution_count": 41,
      "metadata": {
        "colab": {
          "base_uri": "https://localhost:8080/"
        },
        "id": "Zl6nPMZ9tPNd",
        "outputId": "41c697a6-60e8-471f-a684-53df67adfa5d"
      },
      "outputs": [
        {
          "output_type": "stream",
          "name": "stdout",
          "text": [
            "Requirement already satisfied: psx-data-reader in /usr/local/lib/python3.10/dist-packages (0.0.6)\n",
            "Requirement already satisfied: pandas in /usr/local/lib/python3.10/dist-packages (from psx-data-reader) (1.5.3)\n",
            "Requirement already satisfied: tqdm in /usr/local/lib/python3.10/dist-packages (from psx-data-reader) (4.66.1)\n",
            "Requirement already satisfied: beautifulsoup4 in /usr/local/lib/python3.10/dist-packages (from psx-data-reader) (4.11.2)\n",
            "Requirement already satisfied: requests in /usr/local/lib/python3.10/dist-packages (from psx-data-reader) (2.31.0)\n",
            "Requirement already satisfied: soupsieve>1.2 in /usr/local/lib/python3.10/dist-packages (from beautifulsoup4->psx-data-reader) (2.5)\n",
            "Requirement already satisfied: python-dateutil>=2.8.1 in /usr/local/lib/python3.10/dist-packages (from pandas->psx-data-reader) (2.8.2)\n",
            "Requirement already satisfied: pytz>=2020.1 in /usr/local/lib/python3.10/dist-packages (from pandas->psx-data-reader) (2023.3.post1)\n",
            "Requirement already satisfied: numpy>=1.21.0 in /usr/local/lib/python3.10/dist-packages (from pandas->psx-data-reader) (1.23.5)\n",
            "Requirement already satisfied: charset-normalizer<4,>=2 in /usr/local/lib/python3.10/dist-packages (from requests->psx-data-reader) (3.3.2)\n",
            "Requirement already satisfied: idna<4,>=2.5 in /usr/local/lib/python3.10/dist-packages (from requests->psx-data-reader) (3.6)\n",
            "Requirement already satisfied: urllib3<3,>=1.21.1 in /usr/local/lib/python3.10/dist-packages (from requests->psx-data-reader) (2.0.7)\n",
            "Requirement already satisfied: certifi>=2017.4.17 in /usr/local/lib/python3.10/dist-packages (from requests->psx-data-reader) (2023.11.17)\n",
            "Requirement already satisfied: six>=1.5 in /usr/local/lib/python3.10/dist-packages (from python-dateutil>=2.8.1->pandas->psx-data-reader) (1.16.0)\n"
          ]
        }
      ],
      "source": [
        "pip install psx-data-reader"
      ]
    },
    {
      "cell_type": "code",
      "execution_count": 42,
      "metadata": {
        "id": "4gVAAd6WtrmF"
      },
      "outputs": [],
      "source": [
        "from psx import stocks, tickers\n",
        "import datetime"
      ]
    },
    {
      "cell_type": "code",
      "execution_count": 43,
      "metadata": {
        "id": "POV0059ut2Pu"
      },
      "outputs": [],
      "source": [
        "tickers = tickers()"
      ]
    },
    {
      "cell_type": "code",
      "execution_count": 44,
      "metadata": {
        "id": "Mg6_AQJbumBz"
      },
      "outputs": [],
      "source": [
        "today = datetime.date.today()\n",
        "yesterday = today - datetime.timedelta(days=1)\n"
      ]
    },
    {
      "cell_type": "code",
      "execution_count": 45,
      "metadata": {
        "id": "SOiZGCxP-nEv"
      },
      "outputs": [],
      "source": [
        "\n",
        "import json\n",
        "\n",
        "\n",
        "# Dictionary that map the ticket on a the company name\n",
        "ticker_to_company = {\n",
        "    \"BOP\":\"Bank of Punjab\",\n",
        "    \"PSO\":\"Pakistan State Oil\",\n",
        "    \"AKBL\":\"Askari bank\",\n",
        "    \"HCAR\":\"Honda Car\",\n",
        "    \"ACPL\": \"Attock cement\",\n",
        "    \"LOTCHEM\":\"Lotte chemical\",\n",
        "    \"PSMC\":\"Pak Suzuki\",\n",
        "    \"FEROZ\":\"Feroz Sons\",\n",
        "    \"PRL\":\"Pak Refinery\",\n",
        "    \"HABSM\":\"Habib Sugar\"\n",
        "    }\n",
        "\n",
        "\n",
        "\n",
        "\n",
        "company=None\n",
        "\n",
        "def enter_company():\n",
        "  # Get user input\n",
        "  user_input = input(\"Enter the company name: \")\n",
        "\n",
        "  # Search for the corresponding key\n",
        "  found_ticker = None\n",
        "  for ticker, company in ticker_to_company.items():\n",
        "      if user_input.lower() == company.lower():\n",
        "          found_ticker = ticker\n",
        "          break\n",
        "\n",
        "  if found_ticker is not None:\n",
        "    # print(stock_name)\n",
        "    company = found_ticker\n",
        "    print(company)\n",
        "    return company\n",
        "\n",
        "  else:\n",
        "    print(\"Company not found\")\n",
        "\n",
        "\n"
      ]
    },
    {
      "cell_type": "code",
      "execution_count": 46,
      "metadata": {
        "id": "bovMcSTwrsKG"
      },
      "outputs": [],
      "source": [
        "# trained_model = {\n",
        "#     \"BOP\":0,\n",
        "#     \"BATA\":0,\n",
        "#     \"SNGPL\":0,\n",
        "#     \"AVN\":0,\n",
        "#     \"BWCL\":0,\n",
        "#     \"PSO\":0,\n",
        "# }\n",
        "\n",
        "# # Save the dictionary to a JSON file\n",
        "# with open('trained_model.json', 'w') as json_file:\n",
        "#     json.dump(trained_model, json_file)"
      ]
    },
    {
      "cell_type": "code",
      "execution_count": 47,
      "metadata": {
        "colab": {
          "base_uri": "https://localhost:8080/"
        },
        "id": "FgeDs-iGwEkH",
        "outputId": "01400b37-7489-4e4b-a7e2-4abd08864328"
      },
      "outputs": [
        {
          "output_type": "stream",
          "name": "stdout",
          "text": [
            "Enter the company name: askari bank\n",
            "AKBL\n"
          ]
        }
      ],
      "source": [
        "data = \"\"\"ABL ABOT AGP AICL AKBL APL ARPL ATRL AVN BAFL BAHL BIPL BNWM BOP BWCL CEPB CHCC CNERGY COLG DAWH DCR DGKC EFERT EFUG ENGRO EPCL FABL FATIMA FIL FCCL FCEPL FFBL FFC FHAM GADT GATM GHGL GLAXO HBL HGFA HINOON HMB HUBC IBFL ILP INDU INIL ISL JDWS JVDC KAPCO KEL KOHC KTML LCI LOTCHEM LUCK MARI MCB MEBL MLCF MTL MUGHAL MUREB NATF NBP NESTLE NML NRL OGDC PABC PAEL PAKT PGLC PIBTL PIOC PKGP PKGS POL POML PPL PSEL PSO PSX PTC RMPL SCBPL SEARL SHEL SHFA SNGP SPWL SRVI SYS TGL THALL TRG UBL UNITY UPFL YOUW\"\"\"\n",
        "stock_name = enter_company()\n",
        "while(stock_name is None):\n",
        "  stock_name=enter_company()"
      ]
    },
    {
      "cell_type": "code",
      "execution_count": 48,
      "metadata": {
        "id": "sH2hMSkfw3G5"
      },
      "outputs": [],
      "source": [
        "# # Load the dictionary from the JSON file\n",
        "# with open('trained_model.json', 'r') as json_file:\n",
        "#     loaded_model = json.load(json_file)\n",
        "\n",
        "# # Add a new key-value pair\n",
        "# new_key = \"FATIMA\"\n",
        "# new_value = 0\n",
        "# loaded_model[new_key] = new_value\n",
        "\n",
        "# # Delete a key-value pair\n",
        "# key_to_delete = \"NESTLE\"\n",
        "# if key_to_delete in loaded_model:\n",
        "#     del loaded_model[key_to_delete]\n",
        "\n",
        "\n",
        "# # Save the updated dictionary back to the file\n",
        "# with open('trained_model.json', 'w') as json_file:\n",
        "#     json.dump(loaded_model, json_file)"
      ]
    },
    {
      "cell_type": "code",
      "execution_count": 49,
      "metadata": {
        "id": "kZ1Ly8nI3wrd",
        "colab": {
          "base_uri": "https://localhost:8080/",
          "height": 407
        },
        "outputId": "bac00bfa-b6b1-4e02-94e9-164c6fc081ab"
      },
      "outputs": [
        {
          "output_type": "stream",
          "name": "stdout",
          "text": [
            "AKBL\n"
          ]
        },
        {
          "output_type": "stream",
          "name": "stderr",
          "text": [
            "Downloading AKBL's Data:  84%|████████▎ | 194/232 [00:36<00:07,  5.30it/s]\n"
          ]
        },
        {
          "output_type": "error",
          "ename": "KeyboardInterrupt",
          "evalue": "ignored",
          "traceback": [
            "\u001b[0;31m---------------------------------------------------------------------------\u001b[0m",
            "\u001b[0;31mKeyboardInterrupt\u001b[0m                         Traceback (most recent call last)",
            "\u001b[0;32m<ipython-input-49-137de8f7349e>\u001b[0m in \u001b[0;36m<cell line: 2>\u001b[0;34m()\u001b[0m\n\u001b[1;32m      1\u001b[0m \u001b[0mprint\u001b[0m\u001b[0;34m(\u001b[0m\u001b[0mstock_name\u001b[0m\u001b[0;34m)\u001b[0m\u001b[0;34m\u001b[0m\u001b[0;34m\u001b[0m\u001b[0m\n\u001b[0;32m----> 2\u001b[0;31m \u001b[0mdata\u001b[0m \u001b[0;34m=\u001b[0m \u001b[0mstocks\u001b[0m\u001b[0;34m(\u001b[0m\u001b[0mstock_name\u001b[0m\u001b[0;34m,\u001b[0m \u001b[0mstart\u001b[0m\u001b[0;34m=\u001b[0m\u001b[0mdatetime\u001b[0m\u001b[0;34m.\u001b[0m\u001b[0mdate\u001b[0m\u001b[0;34m(\u001b[0m\u001b[0;36m2005\u001b[0m\u001b[0;34m,\u001b[0m \u001b[0;36m1\u001b[0m\u001b[0;34m,\u001b[0m \u001b[0;36m1\u001b[0m\u001b[0;34m)\u001b[0m\u001b[0;34m,\u001b[0m \u001b[0mend\u001b[0m\u001b[0;34m=\u001b[0m\u001b[0myesterday\u001b[0m\u001b[0;34m)\u001b[0m\u001b[0;34m\u001b[0m\u001b[0;34m\u001b[0m\u001b[0m\n\u001b[0m\u001b[1;32m      3\u001b[0m \u001b[0;34m\u001b[0m\u001b[0m\n\u001b[1;32m      4\u001b[0m \u001b[0mdf\u001b[0m \u001b[0;34m=\u001b[0m \u001b[0mdata\u001b[0m\u001b[0;34m.\u001b[0m\u001b[0mreset_index\u001b[0m\u001b[0;34m(\u001b[0m\u001b[0;34m)\u001b[0m\u001b[0;34m\u001b[0m\u001b[0;34m\u001b[0m\u001b[0m\n",
            "\u001b[0;32m/usr/local/lib/python3.10/dist-packages/psx/web.py\u001b[0m in \u001b[0;36mstocks\u001b[0;34m(self, tickers, start, end)\u001b[0m\n\u001b[1;32m     52\u001b[0m         \u001b[0mdates\u001b[0m \u001b[0;34m=\u001b[0m \u001b[0mself\u001b[0m\u001b[0;34m.\u001b[0m\u001b[0mdaterange\u001b[0m\u001b[0;34m(\u001b[0m\u001b[0mstart\u001b[0m\u001b[0;34m,\u001b[0m \u001b[0mend\u001b[0m\u001b[0;34m)\u001b[0m\u001b[0;34m\u001b[0m\u001b[0;34m\u001b[0m\u001b[0m\n\u001b[1;32m     53\u001b[0m \u001b[0;34m\u001b[0m\u001b[0m\n\u001b[0;32m---> 54\u001b[0;31m         \u001b[0mdata\u001b[0m \u001b[0;34m=\u001b[0m \u001b[0;34m[\u001b[0m\u001b[0mself\u001b[0m\u001b[0;34m.\u001b[0m\u001b[0mget_psx_data\u001b[0m\u001b[0;34m(\u001b[0m\u001b[0mticker\u001b[0m\u001b[0;34m,\u001b[0m \u001b[0mdates\u001b[0m\u001b[0;34m)\u001b[0m\u001b[0;34m[\u001b[0m\u001b[0mstart\u001b[0m\u001b[0;34m:\u001b[0m \u001b[0mend\u001b[0m\u001b[0;34m]\u001b[0m \u001b[0;32mfor\u001b[0m \u001b[0mticker\u001b[0m \u001b[0;32min\u001b[0m \u001b[0mtickers\u001b[0m\u001b[0;34m]\u001b[0m\u001b[0;34m\u001b[0m\u001b[0;34m\u001b[0m\u001b[0m\n\u001b[0m\u001b[1;32m     55\u001b[0m \u001b[0;34m\u001b[0m\u001b[0m\n\u001b[1;32m     56\u001b[0m         \u001b[0;32mif\u001b[0m \u001b[0mlen\u001b[0m\u001b[0;34m(\u001b[0m\u001b[0mdata\u001b[0m\u001b[0;34m)\u001b[0m \u001b[0;34m==\u001b[0m \u001b[0;36m1\u001b[0m\u001b[0;34m:\u001b[0m\u001b[0;34m\u001b[0m\u001b[0;34m\u001b[0m\u001b[0m\n",
            "\u001b[0;32m/usr/local/lib/python3.10/dist-packages/psx/web.py\u001b[0m in \u001b[0;36m<listcomp>\u001b[0;34m(.0)\u001b[0m\n\u001b[1;32m     52\u001b[0m         \u001b[0mdates\u001b[0m \u001b[0;34m=\u001b[0m \u001b[0mself\u001b[0m\u001b[0;34m.\u001b[0m\u001b[0mdaterange\u001b[0m\u001b[0;34m(\u001b[0m\u001b[0mstart\u001b[0m\u001b[0;34m,\u001b[0m \u001b[0mend\u001b[0m\u001b[0;34m)\u001b[0m\u001b[0;34m\u001b[0m\u001b[0;34m\u001b[0m\u001b[0m\n\u001b[1;32m     53\u001b[0m \u001b[0;34m\u001b[0m\u001b[0m\n\u001b[0;32m---> 54\u001b[0;31m         \u001b[0mdata\u001b[0m \u001b[0;34m=\u001b[0m \u001b[0;34m[\u001b[0m\u001b[0mself\u001b[0m\u001b[0;34m.\u001b[0m\u001b[0mget_psx_data\u001b[0m\u001b[0;34m(\u001b[0m\u001b[0mticker\u001b[0m\u001b[0;34m,\u001b[0m \u001b[0mdates\u001b[0m\u001b[0;34m)\u001b[0m\u001b[0;34m[\u001b[0m\u001b[0mstart\u001b[0m\u001b[0;34m:\u001b[0m \u001b[0mend\u001b[0m\u001b[0;34m]\u001b[0m \u001b[0;32mfor\u001b[0m \u001b[0mticker\u001b[0m \u001b[0;32min\u001b[0m \u001b[0mtickers\u001b[0m\u001b[0;34m]\u001b[0m\u001b[0;34m\u001b[0m\u001b[0;34m\u001b[0m\u001b[0m\n\u001b[0m\u001b[1;32m     55\u001b[0m \u001b[0;34m\u001b[0m\u001b[0m\n\u001b[1;32m     56\u001b[0m         \u001b[0;32mif\u001b[0m \u001b[0mlen\u001b[0m\u001b[0;34m(\u001b[0m\u001b[0mdata\u001b[0m\u001b[0;34m)\u001b[0m \u001b[0;34m==\u001b[0m \u001b[0;36m1\u001b[0m\u001b[0;34m:\u001b[0m\u001b[0;34m\u001b[0m\u001b[0;34m\u001b[0m\u001b[0m\n",
            "\u001b[0;32m/usr/local/lib/python3.10/dist-packages/psx/web.py\u001b[0m in \u001b[0;36mget_psx_data\u001b[0;34m(self, symbol, dates)\u001b[0m\n\u001b[1;32m     40\u001b[0m                     \u001b[0mfutures\u001b[0m\u001b[0;34m.\u001b[0m\u001b[0mappend\u001b[0m\u001b[0;34m(\u001b[0m\u001b[0mexecutor\u001b[0m\u001b[0;34m.\u001b[0m\u001b[0msubmit\u001b[0m\u001b[0;34m(\u001b[0m\u001b[0mself\u001b[0m\u001b[0;34m.\u001b[0m\u001b[0mdownload\u001b[0m\u001b[0;34m,\u001b[0m \u001b[0msymbol\u001b[0m\u001b[0;34m=\u001b[0m\u001b[0msymbol\u001b[0m\u001b[0;34m,\u001b[0m \u001b[0mdate\u001b[0m\u001b[0;34m=\u001b[0m\u001b[0mdate\u001b[0m\u001b[0;34m)\u001b[0m\u001b[0;34m)\u001b[0m\u001b[0;34m\u001b[0m\u001b[0;34m\u001b[0m\u001b[0m\n\u001b[1;32m     41\u001b[0m \u001b[0;34m\u001b[0m\u001b[0m\n\u001b[0;32m---> 42\u001b[0;31m                 \u001b[0;32mfor\u001b[0m \u001b[0mfuture\u001b[0m \u001b[0;32min\u001b[0m \u001b[0mas_completed\u001b[0m\u001b[0;34m(\u001b[0m\u001b[0mfutures\u001b[0m\u001b[0;34m)\u001b[0m\u001b[0;34m:\u001b[0m\u001b[0;34m\u001b[0m\u001b[0;34m\u001b[0m\u001b[0m\n\u001b[0m\u001b[1;32m     43\u001b[0m                     \u001b[0mdata\u001b[0m\u001b[0;34m.\u001b[0m\u001b[0mappend\u001b[0m\u001b[0;34m(\u001b[0m\u001b[0mfuture\u001b[0m\u001b[0;34m.\u001b[0m\u001b[0mresult\u001b[0m\u001b[0;34m(\u001b[0m\u001b[0;34m)\u001b[0m\u001b[0;34m)\u001b[0m\u001b[0;34m\u001b[0m\u001b[0;34m\u001b[0m\u001b[0m\n\u001b[1;32m     44\u001b[0m                     \u001b[0mprogressbar\u001b[0m\u001b[0;34m.\u001b[0m\u001b[0mupdate\u001b[0m\u001b[0;34m(\u001b[0m\u001b[0;36m1\u001b[0m\u001b[0;34m)\u001b[0m\u001b[0;34m\u001b[0m\u001b[0;34m\u001b[0m\u001b[0m\n",
            "\u001b[0;32m/usr/lib/python3.10/concurrent/futures/_base.py\u001b[0m in \u001b[0;36mas_completed\u001b[0;34m(fs, timeout)\u001b[0m\n\u001b[1;32m    243\u001b[0m                             len(pending), total_futures))\n\u001b[1;32m    244\u001b[0m \u001b[0;34m\u001b[0m\u001b[0m\n\u001b[0;32m--> 245\u001b[0;31m             \u001b[0mwaiter\u001b[0m\u001b[0;34m.\u001b[0m\u001b[0mevent\u001b[0m\u001b[0;34m.\u001b[0m\u001b[0mwait\u001b[0m\u001b[0;34m(\u001b[0m\u001b[0mwait_timeout\u001b[0m\u001b[0;34m)\u001b[0m\u001b[0;34m\u001b[0m\u001b[0;34m\u001b[0m\u001b[0m\n\u001b[0m\u001b[1;32m    246\u001b[0m \u001b[0;34m\u001b[0m\u001b[0m\n\u001b[1;32m    247\u001b[0m             \u001b[0;32mwith\u001b[0m \u001b[0mwaiter\u001b[0m\u001b[0;34m.\u001b[0m\u001b[0mlock\u001b[0m\u001b[0;34m:\u001b[0m\u001b[0;34m\u001b[0m\u001b[0;34m\u001b[0m\u001b[0m\n",
            "\u001b[0;32m/usr/lib/python3.10/threading.py\u001b[0m in \u001b[0;36mwait\u001b[0;34m(self, timeout)\u001b[0m\n\u001b[1;32m    605\u001b[0m             \u001b[0msignaled\u001b[0m \u001b[0;34m=\u001b[0m \u001b[0mself\u001b[0m\u001b[0;34m.\u001b[0m\u001b[0m_flag\u001b[0m\u001b[0;34m\u001b[0m\u001b[0;34m\u001b[0m\u001b[0m\n\u001b[1;32m    606\u001b[0m             \u001b[0;32mif\u001b[0m \u001b[0;32mnot\u001b[0m \u001b[0msignaled\u001b[0m\u001b[0;34m:\u001b[0m\u001b[0;34m\u001b[0m\u001b[0;34m\u001b[0m\u001b[0m\n\u001b[0;32m--> 607\u001b[0;31m                 \u001b[0msignaled\u001b[0m \u001b[0;34m=\u001b[0m \u001b[0mself\u001b[0m\u001b[0;34m.\u001b[0m\u001b[0m_cond\u001b[0m\u001b[0;34m.\u001b[0m\u001b[0mwait\u001b[0m\u001b[0;34m(\u001b[0m\u001b[0mtimeout\u001b[0m\u001b[0;34m)\u001b[0m\u001b[0;34m\u001b[0m\u001b[0;34m\u001b[0m\u001b[0m\n\u001b[0m\u001b[1;32m    608\u001b[0m             \u001b[0;32mreturn\u001b[0m \u001b[0msignaled\u001b[0m\u001b[0;34m\u001b[0m\u001b[0;34m\u001b[0m\u001b[0m\n\u001b[1;32m    609\u001b[0m \u001b[0;34m\u001b[0m\u001b[0m\n",
            "\u001b[0;32m/usr/lib/python3.10/threading.py\u001b[0m in \u001b[0;36mwait\u001b[0;34m(self, timeout)\u001b[0m\n\u001b[1;32m    318\u001b[0m         \u001b[0;32mtry\u001b[0m\u001b[0;34m:\u001b[0m    \u001b[0;31m# restore state no matter what (e.g., KeyboardInterrupt)\u001b[0m\u001b[0;34m\u001b[0m\u001b[0;34m\u001b[0m\u001b[0m\n\u001b[1;32m    319\u001b[0m             \u001b[0;32mif\u001b[0m \u001b[0mtimeout\u001b[0m \u001b[0;32mis\u001b[0m \u001b[0;32mNone\u001b[0m\u001b[0;34m:\u001b[0m\u001b[0;34m\u001b[0m\u001b[0;34m\u001b[0m\u001b[0m\n\u001b[0;32m--> 320\u001b[0;31m                 \u001b[0mwaiter\u001b[0m\u001b[0;34m.\u001b[0m\u001b[0macquire\u001b[0m\u001b[0;34m(\u001b[0m\u001b[0;34m)\u001b[0m\u001b[0;34m\u001b[0m\u001b[0;34m\u001b[0m\u001b[0m\n\u001b[0m\u001b[1;32m    321\u001b[0m                 \u001b[0mgotit\u001b[0m \u001b[0;34m=\u001b[0m \u001b[0;32mTrue\u001b[0m\u001b[0;34m\u001b[0m\u001b[0;34m\u001b[0m\u001b[0m\n\u001b[1;32m    322\u001b[0m             \u001b[0;32melse\u001b[0m\u001b[0;34m:\u001b[0m\u001b[0;34m\u001b[0m\u001b[0;34m\u001b[0m\u001b[0m\n",
            "\u001b[0;31mKeyboardInterrupt\u001b[0m: "
          ]
        }
      ],
      "source": [
        "# print(stock_name)\n",
        "# data = stocks(stock_name, start=datetime.date(2005, 1, 1), end=yesterday)\n",
        "\n",
        "# df = data.reset_index()"
      ]
    },
    {
      "cell_type": "code",
      "execution_count": null,
      "metadata": {
        "id": "SnpZQyhf4mt6"
      },
      "outputs": [],
      "source": [
        "\n",
        "# df.columns = ['Date', 'Open', 'High', 'Low', 'Close', 'Volume']\n",
        "# name_csv = stock_name+\".csv\"\n",
        "# df.to_csv(name_csv, index=False)\n",
        "# df"
      ]
    },
    {
      "cell_type": "code",
      "execution_count": null,
      "metadata": {
        "id": "24UZFPzm6O_H"
      },
      "outputs": [],
      "source": [
        "import pandas as pd\n",
        "import numpy as np\n",
        "from sklearn.preprocessing import MinMaxScaler\n",
        "from sklearn.model_selection import train_test_split\n",
        "from tensorflow.keras.models import Sequential\n",
        "from tensorflow.keras.layers import LSTM, Dense , Dropout\n",
        "from keras.models import load_model\n",
        "from datetime import datetime\n",
        "import matplotlib.pyplot as plt"
      ]
    },
    {
      "cell_type": "code",
      "execution_count": null,
      "metadata": {
        "id": "LPplISvK8nNr"
      },
      "outputs": [],
      "source": [
        "from datetime import datetime, timedelta\n"
      ]
    },
    {
      "cell_type": "code",
      "source": [
        "# start_date = datetime(2010,1,1).date()\n",
        "# end_date = datetime.today().date()\n",
        "\n",
        "# print(start_date)\n",
        "# print(end_date)"
      ],
      "metadata": {
        "id": "gLeI8hw_Wkxf"
      },
      "execution_count": null,
      "outputs": []
    },
    {
      "cell_type": "markdown",
      "metadata": {
        "id": "kO5W1rm96zpR"
      },
      "source": [
        "### Preprocess"
      ]
    },
    {
      "cell_type": "code",
      "execution_count": 50,
      "metadata": {
        "id": "Gj1Q3Ylv642G",
        "colab": {
          "base_uri": "https://localhost:8080/"
        },
        "outputId": "8700684a-3267-4811-d656-d58e6a3a596e"
      },
      "outputs": [
        {
          "output_type": "stream",
          "name": "stdout",
          "text": [
            "4658\n",
            "658\n",
            "(658, 4000, 5)\n"
          ]
        }
      ],
      "source": [
        "name_csv = stock_name + \".csv\"\n",
        "# Load data\n",
        "data = pd.read_csv(name_csv)\n",
        "data2 = data\n",
        "# Convert the 'Date' column to datetime format\n",
        "data['Date'] = pd.to_datetime(data['Date'])\n",
        "\n",
        "# Sort the data by date\n",
        "data = data.sort_values(by='Date')\n",
        "\n",
        "# Use only relevant columns\n",
        "data = data[['Open', 'High', 'Low', 'Close', 'Volume']]\n",
        "\n",
        "# Normalize the data using MinMaxScaler\n",
        "scaler = MinMaxScaler()\n",
        "data_scaled = scaler.fit_transform(data)\n",
        "\n",
        "# Define the number of time steps (you can experiment with this)\n",
        "time_steps = 4000\n",
        "\n",
        "\n",
        "# Create sequences of data\n",
        "X, y = [], []\n",
        "for i in range(len(data_scaled) - time_steps):\n",
        "    X.append(data_scaled[i:i+time_steps,:5])\n",
        "    y.append(data_scaled[i+time_steps, 3])  # 'Close' column is at index 3\n",
        "\n",
        "X, y = np.array(X), np.array(y)\n",
        "\n",
        "print(len(data_scaled))\n",
        "print(len(X))\n",
        "print(X.shape)"
      ]
    },
    {
      "cell_type": "code",
      "execution_count": 51,
      "metadata": {
        "id": "n33IVKoUjVLK"
      },
      "outputs": [],
      "source": [
        "def create_model():\n",
        "  #LSTM architecture\n",
        "  model = Sequential()\n",
        "\n",
        "  # First LSTM layer with Dropout regularisation\n",
        "  model.add(LSTM(units=50,\n",
        "                return_sequences=True,\n",
        "                input_shape=(X.shape[1],X.shape[2])))\n",
        "  model.add(Dropout(0.2))\n",
        "\n",
        "  # Second LSTM layer\n",
        "  model.add(LSTM(units=50,return_sequences=True))\n",
        "  model.add(Dropout(0.2))\n",
        "\n",
        "  # Third LSTM layers\n",
        "  model.add(LSTM(units=50, return_sequences=True))\n",
        "  model.add(Dropout(0.2))\n",
        "\n",
        "  # Fourth LSTM layer\n",
        "  model.add(LSTM(units=50))\n",
        "  model.add(Dropout(0.5))\n",
        "\n",
        "  # The output layer\n",
        "  model.add(Dense(units=1, kernel_initializer='uniform', activation='tanh'))\n",
        "  model.add(Dense(units=1, kernel_initializer='uniform', activation='linear'))\n",
        "  # Compiling the RNN\n",
        "  model.compile(optimizer='adam',loss='mean_squared_error')\n",
        "  history = model.fit(X,y,epochs=5,batch_size=32)\n",
        "  return model,history"
      ]
    },
    {
      "cell_type": "code",
      "execution_count": 52,
      "metadata": {
        "id": "jmuySvCXZEDZ",
        "colab": {
          "base_uri": "https://localhost:8080/"
        },
        "outputId": "3bd25423-266c-4fa7-eb1a-021dd9f0e993"
      },
      "outputs": [
        {
          "output_type": "stream",
          "name": "stdout",
          "text": [
            "Epoch 1/5\n",
            "21/21 [==============================] - 15s 370ms/step - loss: 0.0046\n",
            "Epoch 2/5\n",
            "21/21 [==============================] - 8s 362ms/step - loss: 7.1325e-04\n",
            "Epoch 3/5\n",
            "21/21 [==============================] - 8s 384ms/step - loss: 4.6796e-04\n",
            "Epoch 4/5\n",
            "21/21 [==============================] - 8s 367ms/step - loss: 4.4632e-04\n",
            "Epoch 5/5\n",
            "21/21 [==============================] - 8s 384ms/step - loss: 4.4138e-04\n"
          ]
        }
      ],
      "source": [
        "# Load the dictionary from the JSON file\n",
        "with open('trained_model.json', 'r') as json_file:\n",
        "  loaded_model = json.load(json_file)\n",
        "\n",
        "\n",
        "if(loaded_model[stock_name]==1):\n",
        "  model = load_model(stock_name +'.h5')\n",
        "else:\n",
        "  model,history = create_model()\n",
        "\n",
        "  loaded_model[stock_name]=1 #Updating the value\n",
        "\n",
        "  # Save the modified dictionary back to the file\n",
        "  with open('trained_model.json', 'w') as json_file:\n",
        "      json.dump(loaded_model, json_file)"
      ]
    },
    {
      "cell_type": "code",
      "execution_count": 53,
      "metadata": {
        "id": "1SMFZHhYZgoy",
        "colab": {
          "base_uri": "https://localhost:8080/",
          "height": 472
        },
        "outputId": "7889e923-509d-4de6-a9c2-d0378739f7ef"
      },
      "outputs": [
        {
          "output_type": "display_data",
          "data": {
            "text/plain": [
              "<Figure size 640x480 with 1 Axes>"
            ],
            "image/png": "[encoded data removed]"
          },
          "metadata": {}
        }
      ],
      "source": [
        "# Plot the loss graph\n",
        "\n",
        "plt.plot(history.history['loss'])\n",
        "plt.title('Model Loss')\n",
        "plt.xlabel('Epoch')\n",
        "plt.ylabel('Mean Squared Error Loss')\n",
        "plt.show()\n"
      ]
    },
    {
      "cell_type": "code",
      "execution_count": 54,
      "metadata": {
        "id": "LgoYuWRvv3_Q",
        "colab": {
          "base_uri": "https://localhost:8080/"
        },
        "outputId": "6d6d7190-3a47-45e7-b55d-80fe349a2961"
      },
      "outputs": [
        {
          "output_type": "stream",
          "name": "stdout",
          "text": [
            "(658, 4000, 5)\n"
          ]
        }
      ],
      "source": [
        "print (X.shape)"
      ]
    },
    {
      "cell_type": "code",
      "execution_count": 55,
      "metadata": {
        "id": "YKLg2Do87vvI",
        "colab": {
          "base_uri": "https://localhost:8080/"
        },
        "outputId": "fc5a46e1-bc46-470c-ba46-ef603e84a29b"
      },
      "outputs": [
        {
          "output_type": "stream",
          "name": "stdout",
          "text": [
            "21/21 [==============================] - 5s 171ms/step - loss: 4.4114e-04\n",
            "Test Loss: 0.0004411389527376741\n"
          ]
        }
      ],
      "source": [
        "# Evaluate the model on the test set\n",
        "loss = model.evaluate(X, y)\n",
        "print(f\"Test Loss: {loss}\")\n"
      ]
    },
    {
      "cell_type": "code",
      "source": [
        "print(model.summary())"
      ],
      "metadata": {
        "colab": {
          "base_uri": "https://localhost:8080/"
        },
        "id": "thzLYrlGnPf5",
        "outputId": "50dcf9c1-8cf6-420e-8edb-60175760f6f5"
      },
      "execution_count": 56,
      "outputs": [
        {
          "output_type": "stream",
          "name": "stdout",
          "text": [
            "Model: \"sequential_1\"\n",
            "_________________________________________________________________\n",
            " Layer (type)                Output Shape              Param #   \n",
            "=================================================================\n",
            " lstm_4 (LSTM)               (None, 4000, 50)          11200     \n",
            "                                                                 \n",
            " dropout_4 (Dropout)         (None, 4000, 50)          0         \n",
            "                                                                 \n",
            " lstm_5 (LSTM)               (None, 4000, 50)          20200     \n",
            "                                                                 \n",
            " dropout_5 (Dropout)         (None, 4000, 50)          0         \n",
            "                                                                 \n",
            " lstm_6 (LSTM)               (None, 4000, 50)          20200     \n",
            "                                                                 \n",
            " dropout_6 (Dropout)         (None, 4000, 50)          0         \n",
            "                                                                 \n",
            " lstm_7 (LSTM)               (None, 50)                20200     \n",
            "                                                                 \n",
            " dropout_7 (Dropout)         (None, 50)                0         \n",
            "                                                                 \n",
            " dense_2 (Dense)             (None, 1)                 51        \n",
            "                                                                 \n",
            " dense_3 (Dense)             (None, 1)                 2         \n",
            "                                                                 \n",
            "=================================================================\n",
            "Total params: 71853 (280.68 KB)\n",
            "Trainable params: 71853 (280.68 KB)\n",
            "Non-trainable params: 0 (0.00 Byte)\n",
            "_________________________________________________________________\n",
            "None\n"
          ]
        }
      ]
    },
    {
      "cell_type": "code",
      "execution_count": null,
      "metadata": {
        "id": "4TEL-ZD77zA9"
      },
      "outputs": [],
      "source": [
        "# # Make predictions on the test set\n",
        "# predictions = model.predict(X)\n",
        "\n",
        "# # Inverse transform the predictions and actual values\n",
        "# predictions = scaler.inverse_transform(np.hstack((X[:, -1, :4], predictions.reshape(-1, 1))))\n",
        "# y_test_actual = scaler.inverse_transform(np.hstack((X[:, -1, :4], y.reshape(-1, 1))))\n",
        "\n",
        "# # Print dimensions of predictions and y_test_actual for debugging\n",
        "# print(\"Dimensions of predictions:\", predictions.shape)\n",
        "# print(\"Dimensions of y_test_actual:\", y_test_actual.shape)\n",
        "\n",
        "# # Calculate and print the root mean squared error (RMSE)\n",
        "# rmse = np.sqrt(np.mean((predictions[:, 3] - y_test_actual[:, 3])**2))\n",
        "# print(f\"Root Mean Squared Error: {rmse}\")"
      ]
    },
    {
      "cell_type": "code",
      "execution_count": 57,
      "metadata": {
        "id": "vG5Z8Y1F_dL4",
        "colab": {
          "base_uri": "https://localhost:8080/"
        },
        "outputId": "a4902c96-c042-448b-c5f5-0208fc9b57d9"
      },
      "outputs": [
        {
          "output_type": "stream",
          "name": "stdout",
          "text": [
            "           Date   Open   High    Low  Close      Volume\n",
            "658  2007-09-03  88.90  88.30  85.65  88.00   1632200.0\n",
            "659  2007-09-04  88.00  90.25  87.05  89.75   6987300.0\n",
            "660  2007-09-05  89.75  92.40  90.05  92.40  11391700.0\n",
            "661  2007-09-06  92.40  93.20  91.20  91.20   4293000.0\n",
            "662  2007-09-07  91.20  91.20  87.75  88.75   2767800.0\n",
            "...         ...    ...    ...    ...    ...         ...\n",
            "4653 2023-12-20  22.94  23.40  21.60  22.18   2132500.0\n",
            "4654 2023-12-21  22.20  22.75  22.20  22.72    604500.0\n",
            "4655 2023-12-22  22.50  23.35  22.50  22.73   1679500.0\n",
            "4656 2023-12-26  22.50  22.70  21.50  21.67   1026000.0\n",
            "4657 2023-12-27  21.89  22.40  21.40  21.97   1846500.0\n",
            "\n",
            "[4000 rows x 6 columns]\n",
            "2023-12-27\n",
            "2023-12-28\n",
            "(1, 4000, 5)\n",
            "1/1 [==============================] - 2s 2s/step\n",
            "                     Date   Open   High    Low      Close      Volume\n",
            "0     2007-09-03 00:00:00  88.90  88.30  85.65  88.000000   1632200.0\n",
            "1     2007-09-04 00:00:00  88.00  90.25  87.05  89.750000   6987300.0\n",
            "2     2007-09-05 00:00:00  89.75  92.40  90.05  92.400000  11391700.0\n",
            "3     2007-09-06 00:00:00  92.40  93.20  91.20  91.200000   4293000.0\n",
            "4     2007-09-07 00:00:00  91.20  91.20  87.75  88.750000   2767800.0\n",
            "...                   ...    ...    ...    ...        ...         ...\n",
            "3996  2023-12-21 00:00:00  22.20  22.75  22.20  22.720000    604500.0\n",
            "3997  2023-12-22 00:00:00  22.50  23.35  22.50  22.730000   1679500.0\n",
            "3998  2023-12-26 00:00:00  22.50  22.70  21.50  21.670000   1026000.0\n",
            "3999  2023-12-27 00:00:00  21.89  22.40  21.40  21.970000   1846500.0\n",
            "4000           2023-12-28    NaN    NaN    NaN   9.103513         NaN\n",
            "\n",
            "[4001 rows x 6 columns]\n",
            "Predicted Close Price for 2023-12-28: 9.10351296711713\n"
          ]
        },
        {
          "output_type": "stream",
          "name": "stderr",
          "text": [
            "<ipython-input-57-3024a99bed7d>:32: FutureWarning: The frame.append method is deprecated and will be removed from pandas in a future version. Use pandas.concat instead.\n",
            "  latest_data = latest_data.append({'Date': future_date, 'Close': predicted_price[0][0]}, ignore_index=True)\n"
          ]
        }
      ],
      "source": [
        "\n",
        "# Use the latest available data to make predictions for the future date\n",
        "latest_data = data2.iloc[-time_steps:]\n",
        "print(latest_data)\n",
        "latest_date = latest_data['Date'].max().date()\n",
        "\n",
        "future_date = latest_date + timedelta(days=1)\n",
        "\n",
        "print(latest_date)\n",
        "print(future_date)\n",
        "count=0\n",
        "\n",
        "\n",
        "input_sequence = latest_data[['Open', 'High', 'Low', 'Close', 'Volume']].values[-time_steps:]\n",
        "# print(latest_data.values)\n",
        "\n",
        "\n",
        "# print(input_sequence)\n",
        "\n",
        "input_sequence_scaled = input_sequence.reshape(1, time_steps, 5)\n",
        "print(input_sequence_scaled.shape)\n",
        "# print(input_sequence_scaled)\n",
        "predicted_scaled = model.predict(input_sequence_scaled)\n",
        "\n",
        "# Inverse transform the predicted value to get the actual stock price\n",
        "predicted_price_scaled = np.array([[predicted_scaled[0, 0], 0, 0, 0, 0]])  # Add zeros for other columns\n",
        "predicted_price = scaler.inverse_transform(predicted_price_scaled)\n",
        "\n",
        "\n",
        "\n",
        "\n",
        "\n",
        "latest_data = latest_data.append({'Date': future_date, 'Close': predicted_price[0][0]}, ignore_index=True)\n",
        "\n",
        "\n",
        "\n",
        "\n",
        "\n",
        "print(latest_data)\n",
        "print(f\"Predicted Close Price for {future_date}: {latest_data.tail(1)['Close'].values[0]}\")"
      ]
    },
    {
      "cell_type": "code",
      "source": [
        "# model.save(stock_name + '.h5')"
      ],
      "metadata": {
        "id": "2J99LaJ1w1Gp"
      },
      "execution_count": null,
      "outputs": []
    },
    {
      "cell_type": "code",
      "source": [
        "\n",
        "\n"
      ],
      "metadata": {
        "id": "s-Yq27nuHUte"
      },
      "execution_count": null,
      "outputs": []
    },
    {
      "cell_type": "code",
      "source": [
        "\n",
        "# Plotting historical stock prices\n",
        "plt.plot(data2['Date'], data2['Close'], label='Historical Stock Price', color='blue')\n",
        "\n",
        "# Plotting predicted stock prices for the next day\n",
        "plt.scatter(future_date, predicted_price[0][0], label='Predicted Stock Price', color='red')\n",
        "\n",
        "plt.title('Historical and Predicted Stock Prices')\n",
        "plt.xlabel('Date')\n",
        "plt.ylabel('Stock Price')\n",
        "plt.legend()\n",
        "\n",
        "# Show the plot\n",
        "plt.show()"
      ],
      "metadata": {
        "id": "024mOBiBJe5F"
      },
      "execution_count": null,
      "outputs": []
    }
  ],
  "metadata": {
    "colab": {
      "provenance": [],
      "gpuType": "T4"
    },
    "kernelspec": {
      "display_name": "Python 3",
      "name": "python3"
    },
    "language_info": {
      "codemirror_mode": {
        "name": "ipython",
        "version": 3
      },
      "file_extension": ".py",
      "mimetype": "text/x-python",
      "name": "python",
      "nbconvert_exporter": "python",
      "pygments_lexer": "ipython3",
      "version": "3.11.5"
    },
    "accelerator": "GPU"
  },
  "nbformat": 4,
  "nbformat_minor": 0
}