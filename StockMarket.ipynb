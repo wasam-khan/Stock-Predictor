{
  "cells": [
    {
      "cell_type": "code",
      "execution_count": 1,
      "metadata": {
        "colab": {
          "base_uri": "https://localhost:8080/"
        },
        "id": "Zl6nPMZ9tPNd",
        "outputId": "5a1e4a11-cfe1-4476-db62-c0cbb42a381d"
      },
      "outputs": [
        {
          "name": "stdout",
          "output_type": "stream",
          "text": [
            "Requirement already satisfied: psx-data-reader in c:\\users\\wasam\\appdata\\local\\programs\\python\\python311\\lib\\site-packages (0.0.6)\n",
            "Requirement already satisfied: pandas in c:\\users\\wasam\\appdata\\local\\programs\\python\\python311\\lib\\site-packages (from psx-data-reader) (2.1.1)\n",
            "Requirement already satisfied: tqdm in c:\\users\\wasam\\appdata\\local\\programs\\python\\python311\\lib\\site-packages (from psx-data-reader) (4.66.1)\n",
            "Requirement already satisfied: beautifulsoup4 in c:\\users\\wasam\\appdata\\local\\programs\\python\\python311\\lib\\site-packages (from psx-data-reader) (4.12.2)\n",
            "Requirement already satisfied: requests in c:\\users\\wasam\\appdata\\local\\programs\\python\\python311\\lib\\site-packages (from psx-data-reader) (2.31.0)\n",
            "Requirement already satisfied: soupsieve>1.2 in c:\\users\\wasam\\appdata\\local\\programs\\python\\python311\\lib\\site-packages (from beautifulsoup4->psx-data-reader) (2.5)\n",
            "Requirement already satisfied: numpy>=1.23.2 in c:\\users\\wasam\\appdata\\local\\programs\\python\\python311\\lib\\site-packages (from pandas->psx-data-reader) (1.26.0)\n",
            "Requirement already satisfied: python-dateutil>=2.8.2 in c:\\users\\wasam\\appdata\\roaming\\python\\python311\\site-packages (from pandas->psx-data-reader) (2.8.2)\n",
            "Requirement already satisfied: pytz>=2020.1 in c:\\users\\wasam\\appdata\\local\\programs\\python\\python311\\lib\\site-packages (from pandas->psx-data-reader) (2023.3.post1)\n",
            "Requirement already satisfied: tzdata>=2022.1 in c:\\users\\wasam\\appdata\\local\\programs\\python\\python311\\lib\\site-packages (from pandas->psx-data-reader) (2023.3)\n",
            "Requirement already satisfied: charset-normalizer<4,>=2 in c:\\users\\wasam\\appdata\\local\\programs\\python\\python311\\lib\\site-packages (from requests->psx-data-reader) (3.3.1)\n",
            "Requirement already satisfied: idna<4,>=2.5 in c:\\users\\wasam\\appdata\\local\\programs\\python\\python311\\lib\\site-packages (from requests->psx-data-reader) (3.4)\n",
            "Requirement already satisfied: urllib3<3,>=1.21.1 in c:\\users\\wasam\\appdata\\local\\programs\\python\\python311\\lib\\site-packages (from requests->psx-data-reader) (2.0.7)\n",
            "Requirement already satisfied: certifi>=2017.4.17 in c:\\users\\wasam\\appdata\\local\\programs\\python\\python311\\lib\\site-packages (from requests->psx-data-reader) (2023.7.22)\n",
            "Requirement already satisfied: colorama in c:\\users\\wasam\\appdata\\roaming\\python\\python311\\site-packages (from tqdm->psx-data-reader) (0.4.6)\n",
            "Requirement already satisfied: six>=1.5 in c:\\users\\wasam\\appdata\\roaming\\python\\python311\\site-packages (from python-dateutil>=2.8.2->pandas->psx-data-reader) (1.16.0)\n",
            "Note: you may need to restart the kernel to use updated packages.\n"
          ]
        },
        {
          "name": "stderr",
          "output_type": "stream",
          "text": [
            "\n",
            "[notice] A new release of pip is available: 23.3.1 -> 23.3.2\n",
            "[notice] To update, run: python.exe -m pip install --upgrade pip\n"
          ]
        }
      ],
      "source": [
        "pip install psx-data-reader"
      ]
    },
    {
      "cell_type": "code",
      "execution_count": 1050,
      "metadata": {
        "id": "4gVAAd6WtrmF"
      },
      "outputs": [],
      "source": [
        "from psx import stocks, tickers\n",
        "import datetime"
      ]
    },
    {
      "cell_type": "code",
      "execution_count": 1050,
      "metadata": {
        "id": "44zrSyutanoZ"
      },
      "outputs": [],
      "source": []
    },
    {
      "cell_type": "code",
      "execution_count": 1051,
      "metadata": {
        "id": "POV0059ut2Pu"
      },
      "outputs": [],
      "source": [
        "tickers = tickers()"
      ]
    },
    {
      "cell_type": "code",
      "execution_count": 1052,
      "metadata": {
        "id": "Mg6_AQJbumBz"
      },
      "outputs": [],
      "source": [
        "today = datetime.date.today()\n",
        "yesterday = yesterday = today - datetime.timedelta(days=1)\n"
      ]
    },
    {
      "cell_type": "code",
      "execution_count": 1053,
      "metadata": {
        "id": "SOiZGCxP-nEv"
      },
      "outputs": [],
      "source": [
        "\n",
        "import json\n",
        "\n",
        "\n",
        "# Dictionary that map the ticket on a the company name\n",
        "ticker_to_company = {\n",
        "    \"BOP\":\"Bank of Punjab\",\n",
        "    \"PSO\":\"Pakistan State Oil\",\n",
        "    \"AKBL\":\"Askari bank\",\n",
        "    }\n",
        "\n",
        "\n",
        "\n",
        "\n",
        "company=None\n",
        "\n",
        "def enter_company():\n",
        "  # Get user input\n",
        "  user_input = input(\"Enter the company name: \")\n",
        "\n",
        "  # Search for the corresponding key\n",
        "  found_ticker = None\n",
        "  for ticker, company in ticker_to_company.items():\n",
        "      if user_input.lower() == company.lower():\n",
        "          found_ticker = ticker\n",
        "          break\n",
        "\n",
        "  if found_ticker is not None:\n",
        "    # print(stock_name)\n",
        "    company = found_ticker\n",
        "    print(company)\n",
        "    return company\n",
        "\n",
        "  else:\n",
        "    print(\"Company not found\")\n",
        "\n",
        "\n"
      ]
    },
    {
      "cell_type": "code",
      "execution_count": 1054,
      "metadata": {
        "id": "bovMcSTwrsKG"
      },
      "outputs": [],
      "source": [
        "# trained_model = {\n",
        "#     \"BOP\":0,\n",
        "#     \"BATA\":0,\n",
        "#     \"SNGPL\":0,\n",
        "#     \"AVN\":0,\n",
        "#     \"BWCL\":0,\n",
        "#     \"PSO\":0,\n",
        "# }\n",
        "\n",
        "# # Save the dictionary to a JSON file\n",
        "# with open('trained_model.json', 'w') as json_file:\n",
        "#     json.dump(trained_model, json_file)"
      ]
    },
    {
      "cell_type": "code",
      "execution_count": 1055,
      "metadata": {
        "colab": {
          "base_uri": "https://localhost:8080/"
        },
        "id": "FgeDs-iGwEkH",
        "outputId": "b5b45f0e-a72b-41ba-b155-85ca2d3bd673"
      },
      "outputs": [
        {
          "name": "stdout",
          "output_type": "stream",
          "text": [
            "Enter the company name: kjkf\n",
            "Company not found\n",
            "Enter the company name: bank of punjab\n",
            "BOP\n"
          ]
        }
      ],
      "source": [
        "data = \"\"\"ABL ABOT AGP AICL AKBL APL ARPL ATRL AVN BAFL BAHL BIPL BNWM BOP BWCL CEPB CHCC CNERGY COLG DAWH DCR DGKC EFERT EFUG ENGRO EPCL FABL FATIMA FCCL FCEPL FFBL FFC FHAM GADT GATM GHGL GLAXO HBL HGFA HINOON HMB HUBC IBFL ILP INDU INIL ISL JDWS JVDC KAPCO KEL KOHC KTML LCI LOTCHEM LUCK MARI MCB MEBL MLCF MTL MUGHAL MUREB NATF NBP NESTLE NML NRL OGDC PABC PAEL PAKT PGLC PIBTL PIOC PKGP PKGS POL POML PPL PSEL PSO PSX PTC RMPL SCBPL SEARL SHEL SHFA SNGP SPWL SRVI SYS TGL THALL TRG UBL UNITY UPFL YOUW\"\"\"\n",
        "stock_name = enter_company()\n",
        "while(stock_name is None):\n",
        "  stock_name=enter_company()"
      ]
    },
    {
      "cell_type": "code",
      "execution_count": 1056,
      "metadata": {
        "id": "sH2hMSkfw3G5"
      },
      "outputs": [],
      "source": [
        "# # Load the dictionary from the JSON file\n",
        "# with open('trained_model.json', 'r') as json_file:\n",
        "#     loaded_model = json.load(json_file)\n",
        "\n",
        "# # Add a new key-value pair\n",
        "# new_key = \"FATIMA\"\n",
        "# new_value = 0\n",
        "# loaded_model[new_key] = new_value\n",
        "\n",
        "# # Delete a key-value pair\n",
        "# key_to_delete = \"NESTLE\"\n",
        "# if key_to_delete in loaded_model:\n",
        "#     del loaded_model[key_to_delete]\n",
        "\n",
        "\n",
        "# # Save the updated dictionary back to the file\n",
        "# with open('trained_model.json', 'w') as json_file:\n",
        "#     json.dump(loaded_model, json_file)"
      ]
    },
    {
      "cell_type": "code",
      "execution_count": 1057,
      "metadata": {
        "colab": {
          "base_uri": "https://localhost:8080/"
        },
        "id": "kZ1Ly8nI3wrd",
        "outputId": "02bf79d9-7510-4c6d-9cc2-5df25ac2dde4"
      },
      "outputs": [
        {
          "name": "stdout",
          "output_type": "stream",
          "text": [
            "BOP\n"
          ]
        },
        {
          "name": "stderr",
          "output_type": "stream",
          "text": [
            "Downloading BOP's Data: 100%|██████████| 49/49 [00:09<00:00,  4.98it/s]\n"
          ]
        }
      ],
      "source": [
        "print(stock_name)\n",
        "data = stocks(stock_name, start=datetime.date(2020, 1, 1), end=yesterday)\n",
        "\n",
        "df = data.reset_index()"
      ]
    },
    {
      "cell_type": "code",
      "execution_count": 1058,
      "metadata": {
        "colab": {
          "base_uri": "https://localhost:8080/",
          "height": 424
        },
        "id": "SnpZQyhf4mt6",
        "outputId": "0251e46b-6065-4cab-c4d2-a133b2ef512c"
      },
      "outputs": [
        {
          "data": {
            "text/html": [
              "\n",
              "  <div id=\"df-98108eaa-dc7f-404f-9779-d20f324d841e\" class=\"colab-df-container\">\n",
              "    <div>\n",
              "<style scoped>\n",
              "    .dataframe tbody tr th:only-of-type {\n",
              "        vertical-align: middle;\n",
              "    }\n",
              "\n",
              "    .dataframe tbody tr th {\n",
              "        vertical-align: top;\n",
              "    }\n",
              "\n",
              "    .dataframe thead th {\n",
              "        text-align: right;\n",
              "    }\n",
              "</style>\n",
              "<table border=\"1\" class=\"dataframe\">\n",
              "  <thead>\n",
              "    <tr style=\"text-align: right;\">\n",
              "      <th></th>\n",
              "      <th>Date</th>\n",
              "      <th>Open</th>\n",
              "      <th>High</th>\n",
              "      <th>Low</th>\n",
              "      <th>Close</th>\n",
              "      <th>Volume</th>\n",
              "    </tr>\n",
              "  </thead>\n",
              "  <tbody>\n",
              "    <tr>\n",
              "      <th>0</th>\n",
              "      <td>2020-01-01</td>\n",
              "      <td>11.37</td>\n",
              "      <td>11.87</td>\n",
              "      <td>11.34</td>\n",
              "      <td>11.73</td>\n",
              "      <td>7507000.0</td>\n",
              "    </tr>\n",
              "    <tr>\n",
              "      <th>1</th>\n",
              "      <td>2020-01-02</td>\n",
              "      <td>11.80</td>\n",
              "      <td>12.21</td>\n",
              "      <td>11.80</td>\n",
              "      <td>12.04</td>\n",
              "      <td>27923000.0</td>\n",
              "    </tr>\n",
              "    <tr>\n",
              "      <th>2</th>\n",
              "      <td>2020-01-03</td>\n",
              "      <td>12.08</td>\n",
              "      <td>12.33</td>\n",
              "      <td>11.80</td>\n",
              "      <td>11.85</td>\n",
              "      <td>11222000.0</td>\n",
              "    </tr>\n",
              "    <tr>\n",
              "      <th>3</th>\n",
              "      <td>2020-01-06</td>\n",
              "      <td>11.55</td>\n",
              "      <td>11.80</td>\n",
              "      <td>11.35</td>\n",
              "      <td>11.48</td>\n",
              "      <td>16874500.0</td>\n",
              "    </tr>\n",
              "    <tr>\n",
              "      <th>4</th>\n",
              "      <td>2020-01-07</td>\n",
              "      <td>11.65</td>\n",
              "      <td>11.80</td>\n",
              "      <td>11.45</td>\n",
              "      <td>11.74</td>\n",
              "      <td>4795000.0</td>\n",
              "    </tr>\n",
              "    <tr>\n",
              "      <th>...</th>\n",
              "      <td>...</td>\n",
              "      <td>...</td>\n",
              "      <td>...</td>\n",
              "      <td>...</td>\n",
              "      <td>...</td>\n",
              "      <td>...</td>\n",
              "    </tr>\n",
              "    <tr>\n",
              "      <th>981</th>\n",
              "      <td>2023-12-14</td>\n",
              "      <td>6.23</td>\n",
              "      <td>7.08</td>\n",
              "      <td>6.23</td>\n",
              "      <td>6.97</td>\n",
              "      <td>89773616.0</td>\n",
              "    </tr>\n",
              "    <tr>\n",
              "      <th>982</th>\n",
              "      <td>2023-12-15</td>\n",
              "      <td>7.19</td>\n",
              "      <td>7.65</td>\n",
              "      <td>7.04</td>\n",
              "      <td>7.52</td>\n",
              "      <td>112610953.0</td>\n",
              "    </tr>\n",
              "    <tr>\n",
              "      <th>983</th>\n",
              "      <td>2023-12-18</td>\n",
              "      <td>7.99</td>\n",
              "      <td>8.20</td>\n",
              "      <td>7.36</td>\n",
              "      <td>7.57</td>\n",
              "      <td>91711580.0</td>\n",
              "    </tr>\n",
              "    <tr>\n",
              "      <th>984</th>\n",
              "      <td>2023-12-19</td>\n",
              "      <td>7.55</td>\n",
              "      <td>7.55</td>\n",
              "      <td>6.57</td>\n",
              "      <td>6.72</td>\n",
              "      <td>118013188.0</td>\n",
              "    </tr>\n",
              "    <tr>\n",
              "      <th>985</th>\n",
              "      <td>2023-12-20</td>\n",
              "      <td>6.55</td>\n",
              "      <td>6.90</td>\n",
              "      <td>5.81</td>\n",
              "      <td>6.54</td>\n",
              "      <td>53704668.0</td>\n",
              "    </tr>\n",
              "  </tbody>\n",
              "</table>\n",
              "<p>986 rows × 6 columns</p>\n",
              "</div>\n",
              "    <div class=\"colab-df-buttons\">\n",
              "\n",
              "  <div class=\"colab-df-container\">\n",
              "    <button class=\"colab-df-convert\" onclick=\"convertToInteractive('df-98108eaa-dc7f-404f-9779-d20f324d841e')\"\n",
              "            title=\"Convert this dataframe to an interactive table.\"\n",
              "            style=\"display:none;\">\n",
              "\n",
              "  <svg xmlns=\"http://www.w3.org/2000/svg\" height=\"24px\" viewBox=\"0 -960 960 960\">\n",
              "    <path d=\"M120-120v-720h720v720H120Zm60-500h600v-160H180v160Zm220 220h160v-160H400v160Zm0 220h160v-160H400v160ZM180-400h160v-160H180v160Zm440 0h160v-160H620v160ZM180-180h160v-160H180v160Zm440 0h160v-160H620v160Z\"/>\n",
              "  </svg>\n",
              "    </button>\n",
              "\n",
              "  <style>\n",
              "    .colab-df-container {\n",
              "      display:flex;\n",
              "      gap: 12px;\n",
              "    }\n",
              "\n",
              "    .colab-df-convert {\n",
              "      background-color: #E8F0FE;\n",
              "      border: none;\n",
              "      border-radius: 50%;\n",
              "      cursor: pointer;\n",
              "      display: none;\n",
              "      fill: #1967D2;\n",
              "      height: 32px;\n",
              "      padding: 0 0 0 0;\n",
              "      width: 32px;\n",
              "    }\n",
              "\n",
              "    .colab-df-convert:hover {\n",
              "      background-color: #E2EBFA;\n",
              "      box-shadow: 0px 1px 2px rgba(60, 64, 67, 0.3), 0px 1px 3px 1px rgba(60, 64, 67, 0.15);\n",
              "      fill: #174EA6;\n",
              "    }\n",
              "\n",
              "    .colab-df-buttons div {\n",
              "      margin-bottom: 4px;\n",
              "    }\n",
              "\n",
              "    [theme=dark] .colab-df-convert {\n",
              "      background-color: #3B4455;\n",
              "      fill: #D2E3FC;\n",
              "    }\n",
              "\n",
              "    [theme=dark] .colab-df-convert:hover {\n",
              "      background-color: #434B5C;\n",
              "      box-shadow: 0px 1px 3px 1px rgba(0, 0, 0, 0.15);\n",
              "      filter: drop-shadow(0px 1px 2px rgba(0, 0, 0, 0.3));\n",
              "      fill: #FFFFFF;\n",
              "    }\n",
              "  </style>\n",
              "\n",
              "    <script>\n",
              "      const buttonEl =\n",
              "        document.querySelector('#df-98108eaa-dc7f-404f-9779-d20f324d841e button.colab-df-convert');\n",
              "      buttonEl.style.display =\n",
              "        google.colab.kernel.accessAllowed ? 'block' : 'none';\n",
              "\n",
              "      async function convertToInteractive(key) {\n",
              "        const element = document.querySelector('#df-98108eaa-dc7f-404f-9779-d20f324d841e');\n",
              "        const dataTable =\n",
              "          await google.colab.kernel.invokeFunction('convertToInteractive',\n",
              "                                                    [key], {});\n",
              "        if (!dataTable) return;\n",
              "\n",
              "        const docLinkHtml = 'Like what you see? Visit the ' +\n",
              "          '<a target=\"_blank\" href=https://colab.research.google.com/notebooks/data_table.ipynb>data table notebook</a>'\n",
              "          + ' to learn more about interactive tables.';\n",
              "        element.innerHTML = '';\n",
              "        dataTable['output_type'] = 'display_data';\n",
              "        await google.colab.output.renderOutput(dataTable, element);\n",
              "        const docLink = document.createElement('div');\n",
              "        docLink.innerHTML = docLinkHtml;\n",
              "        element.appendChild(docLink);\n",
              "      }\n",
              "    </script>\n",
              "  </div>\n",
              "\n",
              "\n",
              "<div id=\"df-c95fe665-8a21-4f17-bfdf-4e5d836efd3b\">\n",
              "  <button class=\"colab-df-quickchart\" onclick=\"quickchart('df-c95fe665-8a21-4f17-bfdf-4e5d836efd3b')\"\n",
              "            title=\"Suggest charts\"\n",
              "            style=\"display:none;\">\n",
              "\n",
              "<svg xmlns=\"http://www.w3.org/2000/svg\" height=\"24px\"viewBox=\"0 0 24 24\"\n",
              "     width=\"24px\">\n",
              "    <g>\n",
              "        <path d=\"M19 3H5c-1.1 0-2 .9-2 2v14c0 1.1.9 2 2 2h14c1.1 0 2-.9 2-2V5c0-1.1-.9-2-2-2zM9 17H7v-7h2v7zm4 0h-2V7h2v10zm4 0h-2v-4h2v4z\"/>\n",
              "    </g>\n",
              "</svg>\n",
              "  </button>\n",
              "\n",
              "<style>\n",
              "  .colab-df-quickchart {\n",
              "      --bg-color: #E8F0FE;\n",
              "      --fill-color: #1967D2;\n",
              "      --hover-bg-color: #E2EBFA;\n",
              "      --hover-fill-color: #174EA6;\n",
              "      --disabled-fill-color: #AAA;\n",
              "      --disabled-bg-color: #DDD;\n",
              "  }\n",
              "\n",
              "  [theme=dark] .colab-df-quickchart {\n",
              "      --bg-color: #3B4455;\n",
              "      --fill-color: #D2E3FC;\n",
              "      --hover-bg-color: #434B5C;\n",
              "      --hover-fill-color: #FFFFFF;\n",
              "      --disabled-bg-color: #3B4455;\n",
              "      --disabled-fill-color: #666;\n",
              "  }\n",
              "\n",
              "  .colab-df-quickchart {\n",
              "    background-color: var(--bg-color);\n",
              "    border: none;\n",
              "    border-radius: 50%;\n",
              "    cursor: pointer;\n",
              "    display: none;\n",
              "    fill: var(--fill-color);\n",
              "    height: 32px;\n",
              "    padding: 0;\n",
              "    width: 32px;\n",
              "  }\n",
              "\n",
              "  .colab-df-quickchart:hover {\n",
              "    background-color: var(--hover-bg-color);\n",
              "    box-shadow: 0 1px 2px rgba(60, 64, 67, 0.3), 0 1px 3px 1px rgba(60, 64, 67, 0.15);\n",
              "    fill: var(--button-hover-fill-color);\n",
              "  }\n",
              "\n",
              "  .colab-df-quickchart-complete:disabled,\n",
              "  .colab-df-quickchart-complete:disabled:hover {\n",
              "    background-color: var(--disabled-bg-color);\n",
              "    fill: var(--disabled-fill-color);\n",
              "    box-shadow: none;\n",
              "  }\n",
              "\n",
              "  .colab-df-spinner {\n",
              "    border: 2px solid var(--fill-color);\n",
              "    border-color: transparent;\n",
              "    border-bottom-color: var(--fill-color);\n",
              "    animation:\n",
              "      spin 1s steps(1) infinite;\n",
              "  }\n",
              "\n",
              "  @keyframes spin {\n",
              "    0% {\n",
              "      border-color: transparent;\n",
              "      border-bottom-color: var(--fill-color);\n",
              "      border-left-color: var(--fill-color);\n",
              "    }\n",
              "    20% {\n",
              "      border-color: transparent;\n",
              "      border-left-color: var(--fill-color);\n",
              "      border-top-color: var(--fill-color);\n",
              "    }\n",
              "    30% {\n",
              "      border-color: transparent;\n",
              "      border-left-color: var(--fill-color);\n",
              "      border-top-color: var(--fill-color);\n",
              "      border-right-color: var(--fill-color);\n",
              "    }\n",
              "    40% {\n",
              "      border-color: transparent;\n",
              "      border-right-color: var(--fill-color);\n",
              "      border-top-color: var(--fill-color);\n",
              "    }\n",
              "    60% {\n",
              "      border-color: transparent;\n",
              "      border-right-color: var(--fill-color);\n",
              "    }\n",
              "    80% {\n",
              "      border-color: transparent;\n",
              "      border-right-color: var(--fill-color);\n",
              "      border-bottom-color: var(--fill-color);\n",
              "    }\n",
              "    90% {\n",
              "      border-color: transparent;\n",
              "      border-bottom-color: var(--fill-color);\n",
              "    }\n",
              "  }\n",
              "</style>\n",
              "\n",
              "  <script>\n",
              "    async function quickchart(key) {\n",
              "      const quickchartButtonEl =\n",
              "        document.querySelector('#' + key + ' button');\n",
              "      quickchartButtonEl.disabled = true;  // To prevent multiple clicks.\n",
              "      quickchartButtonEl.classList.add('colab-df-spinner');\n",
              "      try {\n",
              "        const charts = await google.colab.kernel.invokeFunction(\n",
              "            'suggestCharts', [key], {});\n",
              "      } catch (error) {\n",
              "        console.error('Error during call to suggestCharts:', error);\n",
              "      }\n",
              "      quickchartButtonEl.classList.remove('colab-df-spinner');\n",
              "      quickchartButtonEl.classList.add('colab-df-quickchart-complete');\n",
              "    }\n",
              "    (() => {\n",
              "      let quickchartButtonEl =\n",
              "        document.querySelector('#df-c95fe665-8a21-4f17-bfdf-4e5d836efd3b button');\n",
              "      quickchartButtonEl.style.display =\n",
              "        google.colab.kernel.accessAllowed ? 'block' : 'none';\n",
              "    })();\n",
              "  </script>\n",
              "</div>\n",
              "\n",
              "  <div id=\"id_0060ce04-b753-42e4-ac34-126054d51da2\">\n",
              "    <style>\n",
              "      .colab-df-generate {\n",
              "        background-color: #E8F0FE;\n",
              "        border: none;\n",
              "        border-radius: 50%;\n",
              "        cursor: pointer;\n",
              "        display: none;\n",
              "        fill: #1967D2;\n",
              "        height: 32px;\n",
              "        padding: 0 0 0 0;\n",
              "        width: 32px;\n",
              "      }\n",
              "\n",
              "      .colab-df-generate:hover {\n",
              "        background-color: #E2EBFA;\n",
              "        box-shadow: 0px 1px 2px rgba(60, 64, 67, 0.3), 0px 1px 3px 1px rgba(60, 64, 67, 0.15);\n",
              "        fill: #174EA6;\n",
              "      }\n",
              "\n",
              "      [theme=dark] .colab-df-generate {\n",
              "        background-color: #3B4455;\n",
              "        fill: #D2E3FC;\n",
              "      }\n",
              "\n",
              "      [theme=dark] .colab-df-generate:hover {\n",
              "        background-color: #434B5C;\n",
              "        box-shadow: 0px 1px 3px 1px rgba(0, 0, 0, 0.15);\n",
              "        filter: drop-shadow(0px 1px 2px rgba(0, 0, 0, 0.3));\n",
              "        fill: #FFFFFF;\n",
              "      }\n",
              "    </style>\n",
              "    <button class=\"colab-df-generate\" onclick=\"generateWithVariable('df')\"\n",
              "            title=\"Generate code using this dataframe.\"\n",
              "            style=\"display:none;\">\n",
              "\n",
              "  <svg xmlns=\"http://www.w3.org/2000/svg\" height=\"24px\"viewBox=\"0 0 24 24\"\n",
              "       width=\"24px\">\n",
              "    <path d=\"M7,19H8.4L18.45,9,17,7.55,7,17.6ZM5,21V16.75L18.45,3.32a2,2,0,0,1,2.83,0l1.4,1.43a1.91,1.91,0,0,1,.58,1.4,1.91,1.91,0,0,1-.58,1.4L9.25,21ZM18.45,9,17,7.55Zm-12,3A5.31,5.31,0,0,0,4.9,8.1,5.31,5.31,0,0,0,1,6.5,5.31,5.31,0,0,0,4.9,4.9,5.31,5.31,0,0,0,6.5,1,5.31,5.31,0,0,0,8.1,4.9,5.31,5.31,0,0,0,12,6.5,5.46,5.46,0,0,0,6.5,12Z\"/>\n",
              "  </svg>\n",
              "    </button>\n",
              "    <script>\n",
              "      (() => {\n",
              "      const buttonEl =\n",
              "        document.querySelector('#id_0060ce04-b753-42e4-ac34-126054d51da2 button.colab-df-generate');\n",
              "      buttonEl.style.display =\n",
              "        google.colab.kernel.accessAllowed ? 'block' : 'none';\n",
              "\n",
              "      buttonEl.onclick = () => {\n",
              "        google.colab.notebook.generateWithVariable('df');\n",
              "      }\n",
              "      })();\n",
              "    </script>\n",
              "  </div>\n",
              "\n",
              "    </div>\n",
              "  </div>\n"
            ],
            "text/plain": [
              "          Date   Open   High    Low  Close       Volume\n",
              "0   2020-01-01  11.37  11.87  11.34  11.73    7507000.0\n",
              "1   2020-01-02  11.80  12.21  11.80  12.04   27923000.0\n",
              "2   2020-01-03  12.08  12.33  11.80  11.85   11222000.0\n",
              "3   2020-01-06  11.55  11.80  11.35  11.48   16874500.0\n",
              "4   2020-01-07  11.65  11.80  11.45  11.74    4795000.0\n",
              "..         ...    ...    ...    ...    ...          ...\n",
              "981 2023-12-14   6.23   7.08   6.23   6.97   89773616.0\n",
              "982 2023-12-15   7.19   7.65   7.04   7.52  112610953.0\n",
              "983 2023-12-18   7.99   8.20   7.36   7.57   91711580.0\n",
              "984 2023-12-19   7.55   7.55   6.57   6.72  118013188.0\n",
              "985 2023-12-20   6.55   6.90   5.81   6.54   53704668.0\n",
              "\n",
              "[986 rows x 6 columns]"
            ]
          },
          "execution_count": 1058,
          "metadata": {},
          "output_type": "execute_result"
        }
      ],
      "source": [
        "\n",
        "df.columns = ['Date', 'Open', 'High', 'Low', 'Close', 'Volume']\n",
        "name_csv = stock_name+\".csv\"\n",
        "df.to_csv(name_csv, index=False)\n",
        "df"
      ]
    },
    {
      "cell_type": "code",
      "execution_count": 1059,
      "metadata": {
        "id": "24UZFPzm6O_H"
      },
      "outputs": [],
      "source": [
        "import pandas as pd\n",
        "import numpy as np\n",
        "from sklearn.preprocessing import MinMaxScaler\n",
        "from sklearn.model_selection import train_test_split\n",
        "from tensorflow.keras.models import Sequential\n",
        "from tensorflow.keras.layers import LSTM, Dense\n",
        "from keras.models import load_model\n",
        "from datetime import datetime"
      ]
    },
    {
      "cell_type": "code",
      "execution_count": 1060,
      "metadata": {
        "id": "LPplISvK8nNr"
      },
      "outputs": [],
      "source": [
        "from datetime import datetime, timedelta\n"
      ]
    },
    {
      "cell_type": "markdown",
      "metadata": {
        "id": "kO5W1rm96zpR"
      },
      "source": [
        "### Preprocess"
      ]
    },
    {
      "cell_type": "code",
      "execution_count": 1061,
      "metadata": {
        "colab": {
          "base_uri": "https://localhost:8080/"
        },
        "id": "Gj1Q3Ylv642G",
        "outputId": "61ec5196-0781-4c16-e437-9f64c4d28dff"
      },
      "outputs": [
        {
          "name": "stdout",
          "output_type": "stream",
          "text": [
            "6\n",
            "6 980 5\n"
          ]
        }
      ],
      "source": [
        "# Load data\n",
        "data = pd.read_csv(name_csv)\n",
        "data2 = data\n",
        "# Convert the 'Date' column to datetime format\n",
        "data['Date'] = pd.to_datetime(data['Date'])\n",
        "\n",
        "# Sort the data by date\n",
        "data = data.sort_values(by='Date')\n",
        "\n",
        "# Use only relevant columns\n",
        "data = data[['Open', 'High', 'Low', 'Close', 'Volume']]\n",
        "\n",
        "# Normalize the data using MinMaxScaler\n",
        "scaler = MinMaxScaler()\n",
        "data_scaled = scaler.fit_transform(data)\n",
        "\n",
        "# Define the number of time steps (you can experiment with this)\n",
        "time_steps = 90\n",
        "\n",
        "\n",
        "# Create sequences of data\n",
        "X, y = [], []\n",
        "for i in range(len(data_scaled) - time_steps):\n",
        "    X.append(data_scaled[i:i+time_steps,:5])\n",
        "    y.append(data_scaled[i+time_steps, 3])  # 'Close' column is at index 3\n",
        "\n",
        "X, y = np.array(X), np.array(y)\n",
        "\n",
        "print(len(X))\n",
        "print(X.shape[0],X.shape[1],X.shape[2])"
      ]
    },
    {
      "cell_type": "code",
      "execution_count": 1062,
      "metadata": {
        "id": "n33IVKoUjVLK"
      },
      "outputs": [],
      "source": [
        "def create_model():\n",
        "  model = Sequential()\n",
        "  model.add(LSTM(units=4, activation='relu', input_shape=(X.shape[1], X.shape[2])))\n",
        "  model.add(Dense(units=1))\n",
        "  model.compile(optimizer='adam', loss='mse',metrics=['accuracy'])\n",
        "  model.fit(X, y, epochs=5, batch_size=32)\n",
        "  model.save(stock_name +'.h5')\n",
        "  return model"
      ]
    },
    {
      "cell_type": "code",
      "execution_count": 1063,
      "metadata": {
        "id": "jmuySvCXZEDZ"
      },
      "outputs": [],
      "source": [
        "# Load the dictionary from the JSON file\n",
        "with open('trained_model.json', 'r') as json_file:\n",
        "  loaded_model = json.load(json_file)\n",
        "\n",
        "\n",
        "if(loaded_model[stock_name]==1):\n",
        "  model = load_model(stock_name +'.h5')\n",
        "else:\n",
        "  model = create_model()\n",
        "\n",
        "  loaded_model[stock_name]=1 #Updating the value\n",
        "\n",
        "  # Save the modified dictionary back to the file\n",
        "  with open('trained_model.json', 'w') as json_file:\n",
        "      json.dump(loaded_model, json_file)"
      ]
    },
    {
      "cell_type": "code",
      "execution_count": 1064,
      "metadata": {
        "id": "1SMFZHhYZgoy"
      },
      "outputs": [],
      "source": [
        "# timestamp = datetime.now().strftime(\"%Y%m%d%H%M%S\")\n"
      ]
    },
    {
      "cell_type": "code",
      "execution_count": 1065,
      "metadata": {
        "colab": {
          "base_uri": "https://localhost:8080/"
        },
        "id": "LgoYuWRvv3_Q",
        "outputId": "51442f89-37e8-4437-d512-22570a3fe9cd"
      },
      "outputs": [
        {
          "name": "stdout",
          "output_type": "stream",
          "text": [
            "(6, 980, 5)\n"
          ]
        }
      ],
      "source": [
        "print (X.shape)"
      ]
    },
    {
      "cell_type": "code",
      "execution_count": 1066,
      "metadata": {
        "colab": {
          "base_uri": "https://localhost:8080/"
        },
        "id": "YKLg2Do87vvI",
        "outputId": "34194d0a-1a09-4f96-8d3d-b855f9e1012d"
      },
      "outputs": [
        {
          "name": "stdout",
          "output_type": "stream",
          "text": [
            "1/1 [==============================] - 0s 292ms/step - loss: 0.0621 - accuracy: 0.0000e+00\n",
            "Test Loss: [0.06213156506419182, 0.0]\n"
          ]
        }
      ],
      "source": [
        "# Evaluate the model on the test set\n",
        "loss = model.evaluate(X, y)\n",
        "print(f\"Test Loss: {loss}\")\n"
      ]
    },
    {
      "cell_type": "code",
      "execution_count": 1067,
      "metadata": {
        "colab": {
          "base_uri": "https://localhost:8080/"
        },
        "id": "4TEL-ZD77zA9",
        "outputId": "c219e094-1e0d-4220-f8ee-d5a1762e1804"
      },
      "outputs": [
        {
          "name": "stdout",
          "output_type": "stream",
          "text": [
            "1/1 [==============================] - 0s 225ms/step\n",
            "Dimensions of predictions: (6, 5)\n",
            "Dimensions of y_test_actual: (6, 5)\n",
            "Root Mean Squared Error: 0.0\n"
          ]
        }
      ],
      "source": [
        "# Make predictions on the test set\n",
        "predictions = model.predict(X)\n",
        "\n",
        "# Inverse transform the predictions and actual values\n",
        "predictions = scaler.inverse_transform(np.hstack((X[:, -1, :4], predictions.reshape(-1, 1))))\n",
        "y_test_actual = scaler.inverse_transform(np.hstack((X[:, -1, :4], y.reshape(-1, 1))))\n",
        "\n",
        "# Print dimensions of predictions and y_test_actual for debugging\n",
        "print(\"Dimensions of predictions:\", predictions.shape)\n",
        "print(\"Dimensions of y_test_actual:\", y_test_actual.shape)\n",
        "\n",
        "# Calculate and print the root mean squared error (RMSE)\n",
        "rmse = np.sqrt(np.mean((predictions[:, 3] - y_test_actual[:, 3])**2))\n",
        "print(f\"Root Mean Squared Error: {rmse}\")"
      ]
    },
    {
      "cell_type": "code",
      "execution_count": 1071,
      "metadata": {
        "colab": {
          "base_uri": "https://localhost:8080/"
        },
        "id": "vG5Z8Y1F_dL4",
        "outputId": "42999428-5dea-4e7b-ba09-6536093c9849"
      },
      "outputs": [
        {
          "name": "stdout",
          "output_type": "stream",
          "text": [
            "2020-01-09\n",
            "2023-12-21\n",
            "1/1 [==============================] - 0s 58ms/step\n",
            "[[0.00499283]]\n",
            "          Date   Open   High    Low      Close       Volume\n",
            "0   2020-01-09  12.19  12.73  12.19  12.570000   53074500.0\n",
            "1   2020-01-10  12.69  13.40  12.53  13.330000   52475000.0\n",
            "2   2020-01-13  13.60  13.72  13.13  13.280000   34974000.0\n",
            "3   2020-01-14  13.25  13.65  13.25  13.380000   18020500.0\n",
            "4   2020-01-15  13.40  13.59  13.15  13.500000   19650500.0\n",
            "..         ...    ...    ...    ...        ...          ...\n",
            "976 2023-12-15   7.19   7.65   7.04   7.520000  112610953.0\n",
            "977 2023-12-18   7.99   8.20   7.36   7.570000   91711580.0\n",
            "978 2023-12-19   7.55   7.55   6.57   6.720000  118013188.0\n",
            "979 2023-12-20   6.55   6.90   5.81   6.540000   53704668.0\n",
            "980 2023-12-21    NaN    NaN    NaN   3.344372          NaN\n",
            "\n",
            "[981 rows x 6 columns]\n",
            "Predicted Close Price for 2023-12-21: 3.3443718741647896\n"
          ]
        },
        {
          "name": "stderr",
          "output_type": "stream",
          "text": [
            "<ipython-input-1071-fffdb89ae1d1>:36: FutureWarning: The frame.append method is deprecated and will be removed from pandas in a future version. Use pandas.concat instead.\n",
            "  latest_data = latest_data.append({'Date': next_date, 'Close': predicted_price[0][0]}, ignore_index=True)\n",
            "<ipython-input-1071-fffdb89ae1d1>:13: FutureWarning: Comparison of Timestamp with datetime.date is deprecated in order to match the standard library behavior. In a future version these will be considered non-comparable. Use 'ts == pd.Timestamp(date)' or 'ts.date() == date' instead.\n",
            "  while latest_date < future_date:\n"
          ]
        }
      ],
      "source": [
        "\n",
        "future_date = datetime.today().date()\n",
        "\n",
        "\n",
        "# Use the latest available data to make predictions for the future date\n",
        "latest_data = data2.iloc[-time_steps:]\n",
        "latest_date = latest_data['Date'].min().date()\n",
        "\n",
        "\n",
        "print(latest_date)\n",
        "print(future_date)\n",
        "count=0\n",
        "\n",
        "while latest_date < future_date:\n",
        "\n",
        "    input_sequence = latest_data[['Open', 'High', 'Low', 'Close', 'Volume']].values[-time_steps:]\n",
        "    # print(latest_data.values)\n",
        "\n",
        "\n",
        "    # print(input_sequence)\n",
        "\n",
        "    input_sequence_scaled = input_sequence.reshape(1, time_steps, 5)\n",
        "\n",
        "    # print(input_sequence_scaled)\n",
        "    predicted_scaled = model.predict(input_sequence_scaled)\n",
        "\n",
        "    print(predicted_scaled)\n",
        "    # Inverse transform the predicted value to get the actual stock price\n",
        "    predicted_price_scaled = np.array([[predicted_scaled[0, 0], 0, 0, 0, 0]])  # Add zeros for other columns\n",
        "    predicted_price = scaler.inverse_transform(predicted_price_scaled)\n",
        "\n",
        "\n",
        "    # Append the predicted price to the latest_data for the next iteration\n",
        "    next_date = latest_data['Date'].max() + timedelta(days=1)\n",
        "    latest_date = next_date\n",
        "\n",
        "    latest_data = latest_data.append({'Date': next_date, 'Close': predicted_price[0][0]}, ignore_index=True)\n",
        "\n",
        "\n",
        "\n",
        "\n",
        "\n",
        "print(latest_data)\n",
        "print(f\"Predicted Close Price for {future_date}: {latest_data.tail(1)['Close'].values[0]}\")"
      ]
    }
  ],
  "metadata": {
    "colab": {
      "provenance": []
    },
    "kernelspec": {
      "display_name": "Python 3",
      "name": "python3"
    },
    "language_info": {
      "codemirror_mode": {
        "name": "ipython",
        "version": 3
      },
      "file_extension": ".py",
      "mimetype": "text/x-python",
      "name": "python",
      "nbconvert_exporter": "python",
      "pygments_lexer": "ipython3",
      "version": "3.11.5"
    }
  },
  "nbformat": 4,
  "nbformat_minor": 0
}
